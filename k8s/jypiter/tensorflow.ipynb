{
 "cells": [
  {
   "cell_type": "code",
   "execution_count": 3,
   "metadata": {},
   "outputs": [
    {
     "data": {
      "application/vnd.jupyter.widget-view+json": {
       "model_id": "eaff95930ab5458cabbfdda37a6af9e6",
       "version_major": 2,
       "version_minor": 0
      },
      "text/plain": [
       "Button(description='Show prediction', style=ButtonStyle())"
      ]
     },
     "metadata": {},
     "output_type": "display_data"
    },
    {
     "data": {
      "application/vnd.jupyter.widget-view+json": {
       "model_id": "dfec2708e46f40768e0ca5e85569beb1",
       "version_major": 2,
       "version_minor": 0
      },
      "text/plain": [
       "Dropdown(description='Cities:', options=('Kyiv', 'Odessa', 'Lviv', 'Kharkiv', 'Dnipro', 'Ivano-Frankivsk', 'Ch…"
      ]
     },
     "metadata": {},
     "output_type": "display_data"
    },
    {
     "data": {
      "application/vnd.jupyter.widget-view+json": {
       "model_id": "212d336e43a646dcaeb95e3dc0f018a2",
       "version_major": 2,
       "version_minor": 0
      },
      "text/plain": [
       "Button(description='Test predictions', style=ButtonStyle())"
      ]
     },
     "metadata": {},
     "output_type": "display_data"
    }
   ],
   "source": [
    "import requests\n",
    "import json\n",
    "import ipywidgets as widgets\n",
    "import matplotlib.pyplot as plt\n",
    "import ipywidgets as widgets\n",
    "\n",
    "\n",
    "%matplotlib inline\n",
    "\n",
    "button = widgets.Button(description=\"Show prediction\")\n",
    "display(button)\n",
    "out = widgets.Output()\n",
    "city = widgets.Dropdown(\n",
    "    options=[\"Kyiv\", \"Odessa\", \"Lviv\", \"Kharkiv\", \"Dnipro\", \"Ivano-Frankivsk\", \"Chernivtsi\",\n",
    "             \"Vinnytsia\", \"Kriviy Rih\", \"Uzhhorod\"],\n",
    "    value=\"Kyiv\",\n",
    "    description='Cities:',\n",
    "    disabled=False,\n",
    ")\n",
    "\n",
    "\n",
    "display(city)\n",
    "\n",
    "\n",
    "def click_button(c):\n",
    "\n",
    "    arg = city.value\n",
    "\n",
    "    r = requests.post('https://%REGION%-%PROJECT%.cloudfunctions.net/getPredictions', data=arg)\n",
    "    pred = json.loads(r.content.decode(\"utf-8\"))\n",
    "    print(\"Prediction mean temperature for tomorrow in {0} {1} Celsius degree\".format(arg, pred[arg]))\n",
    "\n",
    "button.on_click(click_button)\n",
    "\n",
    "\n",
    "button = widgets.Button(description=\"Test predictions\")\n",
    "display(button)\n",
    "out = widgets.Output()\n",
    "\n",
    "\n",
    "def click_button(d):\n",
    "\n",
    "    arg = \"test\"\n",
    "\n",
    "    r = requests.post('https://%REGION%-%PROJECT%.cloudfunctions.net/getPredictions', data=arg)\n",
    "    demo_data = json.loads(r.content.decode(\"utf-8\"))\n",
    "    \n",
    "    warmup_steps = 20\n",
    "\n",
    "    # Get the output-signal predicted by the model.\n",
    "    signal_pred = demo_data[\"pred_data\"][:100]\n",
    "\n",
    "    # Get the true output-signal from the data-set.\n",
    "    signal_true = demo_data[\"test_data\"][:100]\n",
    "\n",
    "    # Make the plotting-canvas bigger.\n",
    "    plt.figure(figsize=(15,5))\n",
    "\n",
    "    # Plot and compare the two signals.\n",
    "    plt.plot(signal_true, label='true')\n",
    "    plt.plot(signal_pred, label='pred')\n",
    "\n",
    "    # Plot grey box for warmup-period.\n",
    "    p = plt.axvspan(0, warmup_steps, facecolor='black', alpha=0.15)\n",
    "\n",
    "    # Plot labels etc.\n",
    "    plt.ylabel(\"temp\")\n",
    "    plt.legend()\n",
    "    plt.show()\n",
    "\n",
    "button.on_click(click_button)"
   ]
  },
  {
   "cell_type": "code",
   "execution_count": null,
   "metadata": {},
   "outputs": [],
   "source": []
  }
 ],
 "metadata": {
  "kernelspec": {
   "display_name": "Python 3",
   "language": "python",
   "name": "python3"
  },
  "language_info": {
   "codemirror_mode": {
    "name": "ipython",
    "version": 3
   },
   "file_extension": ".py",
   "mimetype": "text/x-python",
   "name": "python",
   "nbconvert_exporter": "python",
   "pygments_lexer": "ipython3",
   "version": "3.7.3"
  }
 },
 "nbformat": 4,
 "nbformat_minor": 2
}
